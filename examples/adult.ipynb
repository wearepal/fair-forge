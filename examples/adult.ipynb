{
 "cells": [
  {
   "cell_type": "code",
   "execution_count": 1,
   "id": "0550ee6e-cea6-4992-b4fd-df70123964a7",
   "metadata": {},
   "outputs": [],
   "source": [
    "import fair_forge as ff"
   ]
  },
  {
   "cell_type": "code",
   "execution_count": 2,
   "id": "83933898-5854-42a3-aae7-bef09d1ee6b6",
   "metadata": {},
   "outputs": [],
   "source": [
    "adult = ff.load_adult(group=ff.AdultGroup.SEX)"
   ]
  },
  {
   "cell_type": "code",
   "execution_count": 3,
   "id": "7ebc5765-f67e-4507-802d-594554c01a82",
   "metadata": {},
   "outputs": [
    {
     "data": {
      "text/plain": [
       "array([[39.,  0.,  0., ...,  1.,  0.,  0.],\n",
       "       [50.,  0.,  0., ...,  1.,  0.,  0.],\n",
       "       [38.,  0.,  0., ...,  1.,  0.,  0.],\n",
       "       ...,\n",
       "       [38.,  0.,  0., ...,  1.,  0.,  0.],\n",
       "       [44.,  0.,  0., ...,  1.,  0.,  0.],\n",
       "       [35.,  0.,  0., ...,  1.,  0.,  0.]],\n",
       "      shape=(45222, 101), dtype=float32)"
      ]
     },
     "execution_count": 3,
     "metadata": {},
     "output_type": "execute_result"
    }
   ],
   "source": [
    "adult.data"
   ]
  },
  {
   "cell_type": "code",
   "execution_count": 4,
   "id": "2257eaed-92a6-4a95-a82a-28978045ecfd",
   "metadata": {},
   "outputs": [
    {
     "data": {
      "text/plain": [
       "['age',\n",
       " 'workclass:Federal-gov',\n",
       " 'workclass:Local-gov',\n",
       " 'workclass:Private',\n",
       " 'workclass:Self-emp-inc',\n",
       " 'workclass:Self-emp-not-inc',\n",
       " 'workclass:State-gov',\n",
       " 'workclass:Without-pay',\n",
       " 'education:10th',\n",
       " 'education:11th',\n",
       " 'education:12th',\n",
       " 'education:1st-4th',\n",
       " 'education:5th-6th',\n",
       " 'education:7th-8th',\n",
       " 'education:9th',\n",
       " 'education:Assoc-acdm',\n",
       " 'education:Assoc-voc',\n",
       " 'education:Bachelors',\n",
       " 'education:Doctorate',\n",
       " 'education:HS-grad',\n",
       " 'education:Masters',\n",
       " 'education:Preschool',\n",
       " 'education:Prof-school',\n",
       " 'education:Some-college',\n",
       " 'education-num',\n",
       " 'marital-status:Divorced',\n",
       " 'marital-status:Married-AF-spouse',\n",
       " 'marital-status:Married-civ-spouse',\n",
       " 'marital-status:Married-spouse-absent',\n",
       " 'marital-status:Never-married',\n",
       " 'marital-status:Separated',\n",
       " 'marital-status:Widowed',\n",
       " 'occupation:Adm-clerical',\n",
       " 'occupation:Armed-Forces',\n",
       " 'occupation:Craft-repair',\n",
       " 'occupation:Exec-managerial',\n",
       " 'occupation:Farming-fishing',\n",
       " 'occupation:Handlers-cleaners',\n",
       " 'occupation:Machine-op-inspct',\n",
       " 'occupation:Other-service',\n",
       " 'occupation:Priv-house-serv',\n",
       " 'occupation:Prof-specialty',\n",
       " 'occupation:Protective-serv',\n",
       " 'occupation:Sales',\n",
       " 'occupation:Tech-support',\n",
       " 'occupation:Transport-moving',\n",
       " 'relationship:Husband',\n",
       " 'relationship:Not-in-family',\n",
       " 'relationship:Other-relative',\n",
       " 'relationship:Own-child',\n",
       " 'relationship:Unmarried',\n",
       " 'relationship:Wife',\n",
       " 'race:Amer-Indian-Eskimo',\n",
       " 'race:Asian-Pac-Islander',\n",
       " 'race:Black',\n",
       " 'race:Other',\n",
       " 'race:White',\n",
       " 'capital-gain',\n",
       " 'capital-loss',\n",
       " 'hours-per-week',\n",
       " 'native-country:Cambodia',\n",
       " 'native-country:Canada',\n",
       " 'native-country:China',\n",
       " 'native-country:Columbia',\n",
       " 'native-country:Cuba',\n",
       " 'native-country:Dominican-Republic',\n",
       " 'native-country:Ecuador',\n",
       " 'native-country:El-Salvador',\n",
       " 'native-country:England',\n",
       " 'native-country:France',\n",
       " 'native-country:Germany',\n",
       " 'native-country:Greece',\n",
       " 'native-country:Guatemala',\n",
       " 'native-country:Haiti',\n",
       " 'native-country:Holand-Netherlands',\n",
       " 'native-country:Honduras',\n",
       " 'native-country:Hong',\n",
       " 'native-country:Hungary',\n",
       " 'native-country:India',\n",
       " 'native-country:Iran',\n",
       " 'native-country:Ireland',\n",
       " 'native-country:Italy',\n",
       " 'native-country:Jamaica',\n",
       " 'native-country:Japan',\n",
       " 'native-country:Laos',\n",
       " 'native-country:Mexico',\n",
       " 'native-country:Nicaragua',\n",
       " 'native-country:Outlying-US(Guam-USVI-etc)',\n",
       " 'native-country:Peru',\n",
       " 'native-country:Philippines',\n",
       " 'native-country:Poland',\n",
       " 'native-country:Portugal',\n",
       " 'native-country:Puerto-Rico',\n",
       " 'native-country:Scotland',\n",
       " 'native-country:South',\n",
       " 'native-country:Taiwan',\n",
       " 'native-country:Thailand',\n",
       " 'native-country:Trinadad&Tobago',\n",
       " 'native-country:United-States',\n",
       " 'native-country:Vietnam',\n",
       " 'native-country:Yugoslavia']"
      ]
     },
     "execution_count": 4,
     "metadata": {},
     "output_type": "execute_result"
    }
   ],
   "source": [
    "adult.feature_names"
   ]
  },
  {
   "cell_type": "code",
   "execution_count": 5,
   "id": "1ab5aff6-05f6-4631-aad7-f0d01a72263a",
   "metadata": {},
   "outputs": [
    {
     "data": {
      "text/plain": [
       "array([0, 0, 0, ..., 0, 0, 1], shape=(45222,), dtype=int32)"
      ]
     },
     "execution_count": 5,
     "metadata": {},
     "output_type": "execute_result"
    }
   ],
   "source": [
    "adult.target"
   ]
  },
  {
   "cell_type": "code",
   "execution_count": 6,
   "id": "9c127f34-e2e5-44f1-a945-0729d04998fd",
   "metadata": {},
   "outputs": [
    {
     "data": {
      "text/plain": [
       "array([1, 1, 1, ..., 1, 1, 1], shape=(45222,), dtype=int32)"
      ]
     },
     "execution_count": 6,
     "metadata": {},
     "output_type": "execute_result"
    }
   ],
   "source": [
    "adult.groups"
   ]
  },
  {
   "cell_type": "code",
   "execution_count": 7,
   "id": "4562bb61-f417-4587-9365-731be6534cc4",
   "metadata": {},
   "outputs": [],
   "source": [
    "from sklearn.linear_model import LogisticRegression\n",
    "from sklearn.metrics import accuracy_score\n",
    "from sklearn.preprocessing import StandardScaler\n",
    "from sklearn.svm import LinearSVC"
   ]
  },
  {
   "cell_type": "code",
   "execution_count": 8,
   "id": "25eb00b6-dfbe-44e3-9f54-23ff238b490d",
   "metadata": {},
   "outputs": [],
   "source": [
    "results = ff.evaluate(\n",
    "    dataset=adult,\n",
    "    methods={\n",
    "        \"Upsampler LR\": ff.GroupPipeline(\n",
    "            ff.Upsampler(), LogisticRegression(solver=\"liblinear\")\n",
    "        ),\n",
    "        \"LR\": LogisticRegression(solver=\"liblinear\"),\n",
    "        \"SVM\": LinearSVC(),\n",
    "        \"Reweighting\": ff.Reweighting(LogisticRegression(solver=\"liblinear\")),\n",
    "    },\n",
    "    metrics=[accuracy_score],\n",
    "    group_metrics=(\n",
    "        ff.cv,\n",
    "        *ff.as_group_metric(\n",
    "            (accuracy_score,),\n",
    "            ff.MetricAgg.MIN_MAX | ff.MetricAgg.INDIVIDUAL,\n",
    "        ),\n",
    "        *ff.as_group_metric(\n",
    "            (ff.tpr, ff.prob_pos),\n",
    "            ff.MetricAgg.DIFF_RATIO,\n",
    "        ),\n",
    "    ),\n",
    "    repeat=2,\n",
    "    preprocessor=StandardScaler(),\n",
    ")"
   ]
  },
  {
   "cell_type": "code",
   "execution_count": 9,
   "id": "7a1518f8-69aa-42b4-b1f9-b1c86a2efa97",
   "metadata": {},
   "outputs": [
    {
     "data": {
      "text/html": [
       "<div><style>\n",
       ".dataframe > thead > tr,\n",
       ".dataframe > tbody > tr {\n",
       "  text-align: right;\n",
       "  white-space: pre-wrap;\n",
       "}\n",
       "</style>\n",
       "<small>shape: (8, 17)</small><table border=\"1\" class=\"dataframe\"><thead><tr><th>method</th><th>repeat_index</th><th>split_seed</th><th>accuracy</th><th>cv</th><th>accuracy_min</th><th>accuracy_max</th><th>accuracy_0</th><th>accuracy_1</th><th>tpr_diff</th><th>tpr_ratio</th><th>tpr_0</th><th>tpr_1</th><th>prob_pos_diff</th><th>prob_pos_ratio</th><th>prob_pos_0</th><th>prob_pos_1</th></tr><tr><td>enum</td><td>i64</td><td>i64</td><td>f64</td><td>f64</td><td>f64</td><td>f64</td><td>f64</td><td>f64</td><td>f64</td><td>f64</td><td>f64</td><td>f64</td><td>f64</td><td>f64</td><td>f64</td><td>f64</td></tr></thead><tbody><tr><td>&quot;Upsampler LR&quot;</td><td>0</td><td>42</td><td>0.841017</td><td>0.906259</td><td>0.804127</td><td>0.917659</td><td>0.917659</td><td>0.804127</td><td>-0.14026</td><td>1.264443</td><td>0.670659</td><td>0.530398</td><td>0.093741</td><td>0.563733</td><td>0.12113</td><td>0.214871</td></tr><tr><td>&quot;Upsampler LR&quot;</td><td>1</td><td>43</td><td>0.83969</td><td>0.899179</td><td>0.806584</td><td>0.908472</td><td>0.908472</td><td>0.806584</td><td>-0.081723</td><td>1.15022</td><td>0.625749</td><td>0.544025</td><td>0.100821</td><td>0.543651</td><td>0.120109</td><td>0.22093</td></tr><tr><td>&quot;LR&quot;</td><td>0</td><td>42</td><td>0.846545</td><td>0.821915</td><td>0.808877</td><td>0.924804</td><td>0.924804</td><td>0.808877</td><td>0.093743</td><td>0.844468</td><td>0.508982</td><td>0.602725</td><td>0.178085</td><td>0.302508</td><td>0.077237</td><td>0.255323</td></tr><tr><td>&quot;LR&quot;</td><td>1</td><td>43</td><td>0.84754</td><td>0.817695</td><td>0.809532</td><td>0.926506</td><td>0.926506</td><td>0.809532</td><td>0.091201</td><td>0.851017</td><td>0.520958</td><td>0.612159</td><td>0.182305</td><td>0.300341</td><td>0.078258</td><td>0.260563</td></tr><tr><td>&quot;SVM&quot;</td><td>0</td><td>42</td><td>0.846434</td><td>0.827596</td><td>0.80904</td><td>0.924124</td><td>0.924124</td><td>0.80904</td><td>0.091719</td><td>0.844996</td><td>0.5</td><td>0.591719</td><td>0.172404</td><td>0.305607</td><td>0.075876</td><td>0.24828</td></tr><tr><td>&quot;SVM&quot;</td><td>1</td><td>43</td><td>0.846987</td><td>0.82262</td><td>0.809532</td><td>0.924804</td><td>0.924804</td><td>0.809532</td><td>0.089852</td><td>0.851441</td><td>0.51497</td><td>0.604822</td><td>0.17738</td><td>0.307051</td><td>0.078598</td><td>0.255978</td></tr><tr><td>&quot;Reweighting&quot;</td><td>0</td><td>42</td><td>0.840354</td><td>0.908301</td><td>0.802817</td><td>0.91834</td><td>0.91834</td><td>0.802817</td><td>-0.154333</td><td>1.29213</td><td>0.682635</td><td>0.528302</td><td>0.091699</td><td>0.573234</td><td>0.123171</td><td>0.214871</td></tr><tr><td>&quot;Reweighting&quot;</td><td>1</td><td>43</td><td>0.83958</td><td>0.898989</td><td>0.806092</td><td>0.909153</td><td>0.909153</td><td>0.806092</td><td>-0.083296</td><td>1.153554</td><td>0.625749</td><td>0.542453</td><td>0.101011</td><td>0.541775</td><td>0.119428</td><td>0.220439</td></tr></tbody></table></div>"
      ],
      "text/plain": [
       "shape: (8, 17)\n",
       "┌───────────┬───────────┬───────────┬──────────┬───┬───────────┬───────────┬───────────┬───────────┐\n",
       "│ method    ┆ repeat_in ┆ split_see ┆ accuracy ┆ … ┆ prob_pos_ ┆ prob_pos_ ┆ prob_pos_ ┆ prob_pos_ │\n",
       "│ ---       ┆ dex       ┆ d         ┆ ---      ┆   ┆ diff      ┆ ratio     ┆ 0         ┆ 1         │\n",
       "│ enum      ┆ ---       ┆ ---       ┆ f64      ┆   ┆ ---       ┆ ---       ┆ ---       ┆ ---       │\n",
       "│           ┆ i64       ┆ i64       ┆          ┆   ┆ f64       ┆ f64       ┆ f64       ┆ f64       │\n",
       "╞═══════════╪═══════════╪═══════════╪══════════╪═══╪═══════════╪═══════════╪═══════════╪═══════════╡\n",
       "│ Upsampler ┆ 0         ┆ 42        ┆ 0.841017 ┆ … ┆ 0.093741  ┆ 0.563733  ┆ 0.12113   ┆ 0.214871  │\n",
       "│ LR        ┆           ┆           ┆          ┆   ┆           ┆           ┆           ┆           │\n",
       "│ Upsampler ┆ 1         ┆ 43        ┆ 0.83969  ┆ … ┆ 0.100821  ┆ 0.543651  ┆ 0.120109  ┆ 0.22093   │\n",
       "│ LR        ┆           ┆           ┆          ┆   ┆           ┆           ┆           ┆           │\n",
       "│ LR        ┆ 0         ┆ 42        ┆ 0.846545 ┆ … ┆ 0.178085  ┆ 0.302508  ┆ 0.077237  ┆ 0.255323  │\n",
       "│ LR        ┆ 1         ┆ 43        ┆ 0.84754  ┆ … ┆ 0.182305  ┆ 0.300341  ┆ 0.078258  ┆ 0.260563  │\n",
       "│ SVM       ┆ 0         ┆ 42        ┆ 0.846434 ┆ … ┆ 0.172404  ┆ 0.305607  ┆ 0.075876  ┆ 0.24828   │\n",
       "│ SVM       ┆ 1         ┆ 43        ┆ 0.846987 ┆ … ┆ 0.17738   ┆ 0.307051  ┆ 0.078598  ┆ 0.255978  │\n",
       "│ Reweighti ┆ 0         ┆ 42        ┆ 0.840354 ┆ … ┆ 0.091699  ┆ 0.573234  ┆ 0.123171  ┆ 0.214871  │\n",
       "│ ng        ┆           ┆           ┆          ┆   ┆           ┆           ┆           ┆           │\n",
       "│ Reweighti ┆ 1         ┆ 43        ┆ 0.83958  ┆ … ┆ 0.101011  ┆ 0.541775  ┆ 0.119428  ┆ 0.220439  │\n",
       "│ ng        ┆           ┆           ┆          ┆   ┆           ┆           ┆           ┆           │\n",
       "└───────────┴───────────┴───────────┴──────────┴───┴───────────┴───────────┴───────────┴───────────┘"
      ]
     },
     "execution_count": 9,
     "metadata": {},
     "output_type": "execute_result"
    }
   ],
   "source": [
    "results"
   ]
  },
  {
   "cell_type": "code",
   "execution_count": 10,
   "id": "70349d17-f39c-4412-9af1-62ec69f1934e",
   "metadata": {},
   "outputs": [
    {
     "data": {
      "text/html": [
       "<div><style>\n",
       ".dataframe > thead > tr,\n",
       ".dataframe > tbody > tr {\n",
       "  text-align: right;\n",
       "  white-space: pre-wrap;\n",
       "}\n",
       "</style>\n",
       "<small>shape: (4, 17)</small><table border=\"1\" class=\"dataframe\"><thead><tr><th>method</th><th>repeat_index</th><th>split_seed</th><th>accuracy</th><th>cv</th><th>accuracy_min</th><th>accuracy_max</th><th>accuracy_0</th><th>accuracy_1</th><th>tpr_diff</th><th>tpr_ratio</th><th>tpr_0</th><th>tpr_1</th><th>prob_pos_diff</th><th>prob_pos_ratio</th><th>prob_pos_0</th><th>prob_pos_1</th></tr><tr><td>enum</td><td>f64</td><td>f64</td><td>f64</td><td>f64</td><td>f64</td><td>f64</td><td>f64</td><td>f64</td><td>f64</td><td>f64</td><td>f64</td><td>f64</td><td>f64</td><td>f64</td><td>f64</td><td>f64</td></tr></thead><tbody><tr><td>&quot;Upsampler LR&quot;</td><td>0.5</td><td>42.5</td><td>0.840354</td><td>0.902719</td><td>0.805355</td><td>0.913066</td><td>0.913066</td><td>0.805355</td><td>-0.110992</td><td>1.207332</td><td>0.648204</td><td>0.537212</td><td>0.097281</td><td>0.553692</td><td>0.120619</td><td>0.2179</td></tr><tr><td>&quot;LR&quot;</td><td>0.5</td><td>42.5</td><td>0.847043</td><td>0.819805</td><td>0.809204</td><td>0.925655</td><td>0.925655</td><td>0.809204</td><td>0.092472</td><td>0.847742</td><td>0.51497</td><td>0.607442</td><td>0.180195</td><td>0.301425</td><td>0.077748</td><td>0.257943</td></tr><tr><td>&quot;SVM&quot;</td><td>0.5</td><td>42.5</td><td>0.846711</td><td>0.825108</td><td>0.809286</td><td>0.924464</td><td>0.924464</td><td>0.809286</td><td>0.090785</td><td>0.848218</td><td>0.507485</td><td>0.59827</td><td>0.174892</td><td>0.306329</td><td>0.077237</td><td>0.252129</td></tr><tr><td>&quot;Reweighting&quot;</td><td>0.5</td><td>42.5</td><td>0.839967</td><td>0.903645</td><td>0.804455</td><td>0.913746</td><td>0.913746</td><td>0.804455</td><td>-0.118814</td><td>1.222842</td><td>0.654192</td><td>0.535377</td><td>0.096355</td><td>0.557505</td><td>0.1213</td><td>0.217655</td></tr></tbody></table></div>"
      ],
      "text/plain": [
       "shape: (4, 17)\n",
       "┌───────────┬───────────┬───────────┬──────────┬───┬───────────┬───────────┬───────────┬───────────┐\n",
       "│ method    ┆ repeat_in ┆ split_see ┆ accuracy ┆ … ┆ prob_pos_ ┆ prob_pos_ ┆ prob_pos_ ┆ prob_pos_ │\n",
       "│ ---       ┆ dex       ┆ d         ┆ ---      ┆   ┆ diff      ┆ ratio     ┆ 0         ┆ 1         │\n",
       "│ enum      ┆ ---       ┆ ---       ┆ f64      ┆   ┆ ---       ┆ ---       ┆ ---       ┆ ---       │\n",
       "│           ┆ f64       ┆ f64       ┆          ┆   ┆ f64       ┆ f64       ┆ f64       ┆ f64       │\n",
       "╞═══════════╪═══════════╪═══════════╪══════════╪═══╪═══════════╪═══════════╪═══════════╪═══════════╡\n",
       "│ Upsampler ┆ 0.5       ┆ 42.5      ┆ 0.840354 ┆ … ┆ 0.097281  ┆ 0.553692  ┆ 0.120619  ┆ 0.2179    │\n",
       "│ LR        ┆           ┆           ┆          ┆   ┆           ┆           ┆           ┆           │\n",
       "│ LR        ┆ 0.5       ┆ 42.5      ┆ 0.847043 ┆ … ┆ 0.180195  ┆ 0.301425  ┆ 0.077748  ┆ 0.257943  │\n",
       "│ SVM       ┆ 0.5       ┆ 42.5      ┆ 0.846711 ┆ … ┆ 0.174892  ┆ 0.306329  ┆ 0.077237  ┆ 0.252129  │\n",
       "│ Reweighti ┆ 0.5       ┆ 42.5      ┆ 0.839967 ┆ … ┆ 0.096355  ┆ 0.557505  ┆ 0.1213    ┆ 0.217655  │\n",
       "│ ng        ┆           ┆           ┆          ┆   ┆           ┆           ┆           ┆           │\n",
       "└───────────┴───────────┴───────────┴──────────┴───┴───────────┴───────────┴───────────┴───────────┘"
      ]
     },
     "execution_count": 10,
     "metadata": {},
     "output_type": "execute_result"
    }
   ],
   "source": [
    "results.group_by(\"method\").mean()"
   ]
  },
  {
   "cell_type": "code",
   "execution_count": null,
   "id": "741e7191-4718-4d62-ad2f-848ce431bf8a",
   "metadata": {},
   "outputs": [],
   "source": []
  }
 ],
 "metadata": {
  "kernelspec": {
   "display_name": "Python 3 (ipykernel)",
   "language": "python",
   "name": "python3"
  },
  "language_info": {
   "codemirror_mode": {
    "name": "ipython",
    "version": 3
   },
   "file_extension": ".py",
   "mimetype": "text/x-python",
   "name": "python",
   "nbconvert_exporter": "python",
   "pygments_lexer": "ipython3",
   "version": "3.13.3"
  }
 },
 "nbformat": 4,
 "nbformat_minor": 5
}
